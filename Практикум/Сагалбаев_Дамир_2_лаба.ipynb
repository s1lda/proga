{
  "nbformat": 4,
  "nbformat_minor": 0,
  "metadata": {
    "colab": {
      "provenance": []
    },
    "kernelspec": {
      "name": "python3",
      "display_name": "Python 3"
    },
    "language_info": {
      "name": "python"
    }
  },
  "cells": [
    {
      "cell_type": "markdown",
      "source": [
        "1. Найдите первую и вторую производные функции y в заданной точке x0\n",
        "для своего варианта с помощью scipy."
      ],
      "metadata": {
        "id": "k7sAmxxmtx6j"
      }
    },
    {
      "cell_type": "code",
      "execution_count": 15,
      "metadata": {
        "id": "L5MS6GtntGv2"
      },
      "outputs": [],
      "source": [
        "import scipy\n",
        "import math\n",
        "import sympy\n",
        "import scipy.misc\n",
        "from sympy import *\n",
        "from scipy.integrate import quad\n",
        "import numpy as np\n",
        "from scipy.optimize import Bounds, minimize, LinearConstraint"
      ]
    },
    {
      "cell_type": "code",
      "source": [
        "x0=3.5\n",
        "def f(x):\n",
        "  return math.sin(math.sqrt(2*x))\n",
        "print(scipy.misc.derivative(f,x0,n=1))\n",
        "print(scipy.misc.derivative(f,x0,n=2))"
      ],
      "metadata": {
        "colab": {
          "base_uri": "https://localhost:8080/"
        },
        "id": "JVFU4zGatw7K",
        "outputId": "f1414f80-a0ea-485d-de8b-8c7bddf628a8"
      },
      "execution_count": 6,
      "outputs": [
        {
          "output_type": "stream",
          "name": "stdout",
          "text": [
            "-0.3228145617436734\n",
            "-0.023674536698421372\n"
          ]
        },
        {
          "output_type": "stream",
          "name": "stderr",
          "text": [
            "<ipython-input-6-53d287d4458a>:4: DeprecationWarning: scipy.misc.derivative is deprecated in SciPy v1.10.0; and will be completely removed in SciPy v1.12.0. You may consider using findiff: https://github.com/maroba/findiff or numdifftools: https://github.com/pbrod/numdifftools\n",
            "  print(scipy.misc.derivative(f,x0,n=1))\n",
            "<ipython-input-6-53d287d4458a>:5: DeprecationWarning: scipy.misc.derivative is deprecated in SciPy v1.10.0; and will be completely removed in SciPy v1.12.0. You may consider using findiff: https://github.com/maroba/findiff or numdifftools: https://github.com/pbrod/numdifftools\n",
            "  print(scipy.misc.derivative(f,x0,n=2))\n"
          ]
        }
      ]
    },
    {
      "cell_type": "markdown",
      "source": [
        "2.Используя функцию из таблицы выше для вашего варианта и пакет\n",
        "sympy выведите на экран символьное представление производной."
      ],
      "metadata": {
        "id": "VksnRioqu3mR"
      }
    },
    {
      "cell_type": "code",
      "source": [
        "x = Symbol('x')\n",
        "f= sin(sqrt(2 * x))\n",
        "print(f.diff(x))"
      ],
      "metadata": {
        "colab": {
          "base_uri": "https://localhost:8080/"
        },
        "id": "XWoJRmvyu20G",
        "outputId": "675682ca-b164-4625-855f-9e020d31a167"
      },
      "execution_count": 10,
      "outputs": [
        {
          "output_type": "stream",
          "name": "stdout",
          "text": [
            "sqrt(2)*cos(sqrt(2)*sqrt(x))/(2*sqrt(x))\n"
          ]
        }
      ]
    },
    {
      "cell_type": "markdown",
      "source": [
        "3.Вычислите определенный интеграл от a до b с помощью scipy функции\n",
        "для своего варианта. Интеграл вычислите методом прямоугольников."
      ],
      "metadata": {
        "id": "joSMJESpvPlU"
      }
    },
    {
      "cell_type": "code",
      "source": [
        "def f(x):\n",
        "  return math.sin(math.sqrt(2*x))\n",
        "result, err = quad(f, 0, 1)\n",
        "print(round(result,2))\n"
      ],
      "metadata": {
        "colab": {
          "base_uri": "https://localhost:8080/"
        },
        "id": "8HoEGP13vTH0",
        "outputId": "ed078829-8666-43db-ebdb-64deb83713b7"
      },
      "execution_count": 18,
      "outputs": [
        {
          "output_type": "stream",
          "name": "stdout",
          "text": [
            "0.77\n"
          ]
        }
      ]
    },
    {
      "cell_type": "markdown",
      "source": [
        "4. С помощью sympy выведите на экран неопределенный интеграл\n",
        "функции y для вашего варианта."
      ],
      "metadata": {
        "id": "pWymz3yswGak"
      }
    },
    {
      "cell_type": "code",
      "source": [
        "x = Symbol('x')\n",
        "f = sin(sqrt(2 * x))\n",
        "print(f.integrate(x))"
      ],
      "metadata": {
        "colab": {
          "base_uri": "https://localhost:8080/"
        },
        "id": "UZzXU8ULwKl5",
        "outputId": "01b778a1-0644-49ff-a97f-7d7c7734f9ef"
      },
      "execution_count": 24,
      "outputs": [
        {
          "output_type": "stream",
          "name": "stdout",
          "text": [
            "-sqrt(2)*sqrt(x)*cos(sqrt(2)*sqrt(x)) + sin(sqrt(2)*sqrt(x))\n"
          ]
        }
      ]
    },
    {
      "cell_type": "markdown",
      "source": [
        "5. Решите задачу нелинейной оптимизации для вашего варианта.\n",
        "Выведите оптимальное значение и решение."
      ],
      "metadata": {
        "id": "5lLPHn2Qwov4"
      }
    },
    {
      "cell_type": "code",
      "source": [
        "def opt(x):\n",
        "    return (x[0]+3)**3+(x[1]-3)**2\n",
        "def constraint(x):\n",
        "    return x[0]-4*x[1]-12\n",
        "b =(0,np.inf)\n",
        "bnds=(b,b)\n",
        "constr={'type':'ineq','fun': constraint}\n",
        "x0=np.zeros(2)\n",
        "solution=scipy.optimize.minimize(opt,x0,method='SLSQP',bounds=bnds,constraints=(constr))\n",
        "x=solution.x\n",
        "print(solution)\n",
        "print('Final:'+str(opt(x)))\n",
        "print('x1='+str(x[0]))\n",
        "print('x2=' + str(x[1]))\n"
      ],
      "metadata": {
        "colab": {
          "base_uri": "https://localhost:8080/"
        },
        "id": "VSbFkJkpwrz3",
        "outputId": "cd97e298-806d-4a32-b5bf-e4e5e6a0fe0c"
      },
      "execution_count": 26,
      "outputs": [
        {
          "output_type": "stream",
          "name": "stdout",
          "text": [
            " message: Optimization terminated successfully\n",
            " success: True\n",
            "  status: 0\n",
            "     fun: 3383.9999999798442\n",
            "       x: [ 1.200e+01  1.420e-11]\n",
            "     nit: 4\n",
            "     jac: [ 6.750e+02 -6.000e+00]\n",
            "    nfev: 15\n",
            "    njev: 4\n",
            "Final:3383.9999999798442\n",
            "x1=11.999999999970266\n",
            "x2=1.4198268654142697e-11\n"
          ]
        }
      ]
    }
  ]
}